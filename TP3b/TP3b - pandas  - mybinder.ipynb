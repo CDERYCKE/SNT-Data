{
 "cells": [
  {
   "cell_type": "markdown",
   "metadata": {},
   "source": [
    "# La catastrophe du Titanic\n",
    "Le RMS Titanic est un paquebot transatlantique britannique qui fait naufrage dans l’océan Atlantique Nord en 1912 à la suite d’une collision avec un iceberg, lors de son voyage inaugural de Southampton à New York. C’est l’une des plus grandes catastrophes maritimes survenues en temps de paix et la plus grande pour l’époque. Le drame met en évidence l’insuffisance des règles de sécurité de l’époque, notamment le nombre insuffisant de canots de sauvetage et les carences dans les procédures d’évacuation d’urgence. \n",
    "\n",
    "Source : Wikipédia"
   ]
  },
  {
   "cell_type": "markdown",
   "metadata": {},
   "source": [
    "<div class=\"alert alert-info\">\n",
    "<b>Travail à faire : </b> Exécuter le code dans la cellule suivante, 2 possibilités :\n",
    "    <li> cliquer sur la petite flèche (bouton Run ou Exécuter)\n",
    "   <li> appuyer simultanément sur les touches shift et entrée\n",
    "</div>"
   ]
  },
  {
   "cell_type": "code",
   "execution_count": null,
   "metadata": {},
   "outputs": [],
   "source": [
    "%matplotlib inline\n",
    "\n",
    "import matplotlib.pyplot as plt\n",
    "import pandas\n",
    "csv_file = 'data/titanic-perso.csv' # stocke le chemin vers le fichier de données dans le répertoire data\n",
    "data = pandas.read_csv(csv_file, sep =';')"
   ]
  },
  {
   "cell_type": "markdown",
   "metadata": {},
   "source": [
    "Cette cellule de code importe les bibliothèques nécessaires au traitement des données :\n",
    "* pyplot pour faire des fichiers\n",
    "* pandas pour traiter les données du fichier csv\n",
    "\n",
    "Puis on stocke les informations du fichier csv dans un objet appelé ici __data__ (type d'objet = dataframe de pandas).\n",
    "\n",
    "En écrivant le nom de la variable on peut voir comment sont organisées les donnéees :"
   ]
  },
  {
   "cell_type": "code",
   "execution_count": null,
   "metadata": {},
   "outputs": [],
   "source": [
    "data"
   ]
  },
  {
   "cell_type": "markdown",
   "metadata": {},
   "source": [
    "<div class=\"alert alert-info\">\n",
    "<b>Travail à faire : </b> Après avoir exécuté le code dans les cellules précédentes, répondre aux questions de la fiche.\n",
    "       <li> Quels sont les descripteurs ?\n",
    "       <li> Sachant que Miss. Elisabeth Walton Allen a survécu au naufrage, que signifie le nombre 1 pour le descipteur survie ?\n",
    "</div>\n"
   ]
  },
  {
   "cell_type": "markdown",
   "metadata": {},
   "source": [
    "<div class=\"alert alert-info\">\n",
    "<b>Travail à faire : </b> Après avoir modifié le code dans la cellule suivante, répondre aux questions de la fiche.\n",
    "       <li> Faire une phrase décrivant la personne correspondant à l'objet 314 de la base de données et son destin\n",
    "</div>\n"
   ]
  },
  {
   "cell_type": "code",
   "execution_count": null,
   "metadata": {},
   "outputs": [],
   "source": [
    "data.loc[2] #"
   ]
  },
  {
   "cell_type": "markdown",
   "metadata": {},
   "source": [
    "La commande `.describe()` permet d'obtenir rapidement des informations sur les données.\n",
    "\n",
    "* _mean_ signifie moyenne\n",
    "* _std_ correspond à l'écart-type\n",
    "* _min_ et_max_ ont un sens évident\n",
    "* _25 %_, _50 %_ et _75 %_ permettent de classer les données en quartiles."
   ]
  },
  {
   "cell_type": "code",
   "execution_count": null,
   "metadata": {},
   "outputs": [],
   "source": [
    "data.describe()"
   ]
  },
  {
   "cell_type": "markdown",
   "metadata": {},
   "source": [
    "<div class=\"alert alert-info\">\n",
    "<b>Travail à faire : </b> Après avoir exécuter le code dans les cellules précédentes, répondre aux questions de la fiche.\n",
    "       <li> L’âge moyen des passagers\n",
    "       <li> Le tarif moyen payé\n",
    "       <li> L'age du passager le plus agé\n",
    "       <li> Le taux moyen de survie (pourcentage exprimé entre 0 et 1)\n",
    "</div>\n"
   ]
  },
  {
   "cell_type": "markdown",
   "metadata": {},
   "source": [
    "Il est possible d'obtenir des résultats similaires avec la commande suivante :"
   ]
  },
  {
   "cell_type": "code",
   "execution_count": null,
   "metadata": {},
   "outputs": [],
   "source": [
    "data['age'].mean()"
   ]
  },
  {
   "cell_type": "markdown",
   "metadata": {},
   "source": [
    "<div class=\"alert alert-info\">\n",
    "<b>Travail à faire : </b> \n",
    "    <li> écrire le code Python pour obtenir la moyenne de l'indicateur survie\n",
    "</div>\n"
   ]
  },
  {
   "cell_type": "code",
   "execution_count": null,
   "metadata": {},
   "outputs": [],
   "source": [
    "# Ecrire votre code ici"
   ]
  },
  {
   "cell_type": "markdown",
   "metadata": {},
   "source": [
    "# Influence de la classe sociale sur la survie :\n",
    "Il n’y avait pas suffisamment de places dans les canots de sauvetage du Titanic pour tous les passagers et les membres de l’équipage (et certains canots sont partis à peine remplis).\n",
    "\n",
    "On souhaite  examiner l’influence de la classe sociale des passagers notamment sur la survie. Pour cela on va filtrer les données selon la classe et afficher les valeurs moyennes des différents descripteurs."
   ]
  },
  {
   "cell_type": "markdown",
   "metadata": {},
   "source": [
    "<div class=\"alert alert-info\">\n",
    "<b>Travail à faire :  </b> \n",
    "    <li> Exécuter les lignes de code suivantes\n",
    "    <li> Compléter le tableau de la fiche réponse\n",
    "        \n",
    "</div>\n"
   ]
  },
  {
   "cell_type": "code",
   "execution_count": null,
   "metadata": {},
   "outputs": [],
   "source": [
    "gr1 = data.groupby(['classe']).mean()"
   ]
  },
  {
   "cell_type": "code",
   "execution_count": null,
   "metadata": {},
   "outputs": [],
   "source": [
    "gr1 # pour afficher le résultat"
   ]
  },
  {
   "cell_type": "markdown",
   "metadata": {},
   "source": [
    "# Influence du sexe sur la survie :\n",
    "Dans le film de James Cameron, lors de l’évacuation du Titanic, on voit que les femmes embarquent davantage sur les canots que les hommes. On peut donc supposer que la fréquence de survie pour les femmes a été supérieure à celle des hommes. Est-ce la réalité ?\n",
    "\n",
    "Répondre en adoptant une démarche similaire à celle utilisée à la question précédente."
   ]
  },
  {
   "cell_type": "markdown",
   "metadata": {},
   "source": [
    "<div class=\"alert alert-info\">\n",
    "<b>Travail à faire :  </b> \n",
    "    <li> proposer une ligne de code (ci-dessous)\n",
    "    <li> Compléter la fiche réponse\n",
    "        \n",
    "</div>\n"
   ]
  },
  {
   "cell_type": "code",
   "execution_count": null,
   "metadata": {},
   "outputs": [],
   "source": [
    "#votre code ici"
   ]
  },
  {
   "cell_type": "markdown",
   "metadata": {},
   "source": [
    "On peut avoir encore plus d'informations en analysant la survie selon le sexe et la classe :"
   ]
  },
  {
   "cell_type": "code",
   "execution_count": null,
   "metadata": {},
   "outputs": [],
   "source": [
    "gr3 = data.groupby(['classe','sexe']).mean()\n",
    "gr3"
   ]
  },
  {
   "cell_type": "markdown",
   "metadata": {},
   "source": [
    "Les inégalités sont très fortes selon la classe. Alors que 49 % des femmes de 3ème classe vont survivre, 89 % des femmes de 2nde classe et 97 % des femmes de 1ère classe vont survivre !\n",
    "Les canots de sauvetage étaient donc essentiellement composés de passagères de 1ère et 2ème classe. . . \n"
   ]
  },
  {
   "cell_type": "markdown",
   "metadata": {},
   "source": [
    "# Recherche d'un passager selon des critères :\n",
    "On veut rechercher le passager le plus agé, de classe 3 et ayant survécu.\n",
    "Ci-dessous unexemple de ligne de code qui permet de trier la base de données.\n",
    "\n",
    "Dans le cas ci-dessous, nous avons trié par age croissant, par classe décroissante et par survie décroissante (survivants en premier).\n",
    "\n",
    "Nous avons ainsi obtenu le plus jeune passager de classe 3 à avoir survécu."
   ]
  },
  {
   "cell_type": "code",
   "execution_count": null,
   "metadata": {},
   "outputs": [],
   "source": [
    "data.sort_values(['age','classe','survie', ],ascending = [True, False, False] )"
   ]
  },
  {
   "cell_type": "markdown",
   "metadata": {},
   "source": [
    "<div class=\"alert alert-info\">\n",
    "<b>Travail à faire :  </b> \n",
    "    <li> Proposer ci-dessous une ligne de code pour obtenir le passager le plus agé de classe 3 ayant survécu\n",
    "    <li> Compléter la fiche réponse\n",
    "        \n",
    "</div>\n"
   ]
  },
  {
   "cell_type": "code",
   "execution_count": null,
   "metadata": {},
   "outputs": [],
   "source": [
    "#votre code ici"
   ]
  },
  {
   "cell_type": "code",
   "execution_count": null,
   "metadata": {},
   "outputs": [],
   "source": []
  },
  {
   "cell_type": "markdown",
   "metadata": {},
   "source": [
    "<div class=\"alert alert-success\">\n",
    "<b>Félicitations ! Vous êtes arrivé au bout du travail demandé. N'oubliez pas de :  </b> \n",
    "    <li> Compléter le tableau de la fiche réponse\n",
    "</div>\n"
   ]
  },
  {
   "cell_type": "code",
   "execution_count": null,
   "metadata": {},
   "outputs": [],
   "source": []
  },
  {
   "cell_type": "markdown",
   "metadata": {},
   "source": [
    "Envie d'en découvrir plus..."
   ]
  },
  {
   "cell_type": "markdown",
   "metadata": {},
   "source": [
    "Une autre façon de trouver la personne la plus agée ayant survécu au naufrage et en classe 3 :"
   ]
  },
  {
   "cell_type": "code",
   "execution_count": null,
   "metadata": {},
   "outputs": [],
   "source": [
    "data[ data.classe.eq(3) & data.survie.eq(1)].sort_values('age', ascending = False)"
   ]
  },
  {
   "cell_type": "code",
   "execution_count": null,
   "metadata": {},
   "outputs": [],
   "source": []
  },
  {
   "cell_type": "markdown",
   "metadata": {},
   "source": [
    "On peut compter le nombre de passagers selon un critère"
   ]
  },
  {
   "cell_type": "code",
   "execution_count": null,
   "metadata": {},
   "outputs": [],
   "source": [
    "data['sexe'].value_counts()"
   ]
  },
  {
   "cell_type": "markdown",
   "metadata": {},
   "source": [
    "Proposer un code qui permet de connaitre le nombre de survivants et de décès :"
   ]
  },
  {
   "cell_type": "code",
   "execution_count": null,
   "metadata": {},
   "outputs": [],
   "source": [
    "#votre code ici"
   ]
  },
  {
   "cell_type": "markdown",
   "metadata": {},
   "source": [
    "On peut tracer des histogrammes avec matplotlib :\n",
    "\n",
    "Exemple : histogramme des tarifs des billts"
   ]
  },
  {
   "cell_type": "code",
   "execution_count": null,
   "metadata": {},
   "outputs": [],
   "source": [
    "data['tarif'].plot(kind=\"hist\")\n",
    "plt.show()"
   ]
  },
  {
   "cell_type": "markdown",
   "metadata": {},
   "source": [
    "Proposer un code qui affiche l'histogramme des tarifs des cabines :"
   ]
  },
  {
   "cell_type": "code",
   "execution_count": null,
   "metadata": {},
   "outputs": [],
   "source": [
    "#votre code ici"
   ]
  },
  {
   "cell_type": "markdown",
   "metadata": {},
   "source": [
    "On peut améliorer la compréhension des relations entre les données avec une bibliothèque de traitement des données : seaborn"
   ]
  },
  {
   "cell_type": "code",
   "execution_count": null,
   "metadata": {},
   "outputs": [],
   "source": [
    "import seaborn as sns # Visualisation des données"
   ]
  },
  {
   "cell_type": "code",
   "execution_count": null,
   "metadata": {},
   "outputs": [],
   "source": [
    "plt.figure(figsize=(12,8))\n",
    "sns.heatmap(data.corr(), annot=True, cmap=\"coolwarm\")"
   ]
  },
  {
   "cell_type": "markdown",
   "metadata": {},
   "source": [
    "## C'est joli mais comment on l'utilise ?\n",
    "\n",
    "Une matrice de corrélation est utilisée pour évaluer la dépendence entre plusieurs variables en même temps. <br>\n",
    "Le résultat est une table contenant les coefficients de corrélation entre chaque variable et les autres. <br>\n",
    "\n",
    "Le résultat 1 correspond à une corrélation parfaite entre les données : sur la diagonale, on compare des données identiques : c'est donc forcément 100 %  de corrélation <br>\n",
    "Le résultat 0 correspond à l'absence de corrélation.\n",
    "Un résultat négatif -1 correspond à une corrélation négative : plus une valeur est grande, plus l'autre est petite.\n",
    "\n",
    "Autre exemple : on voit la corrélation entre le sexe et la survie : un taux de corrélation de 0,53 qui signifie que plus le sexe est élevé (2 pour femme contre 1 pour homme) plus la survie est élevée ( 1 pour survie et 0 pour décès).\n",
    "\n",
    "Comment interpréter alors  :\n",
    "1) la corrélation négative entre le tarif et la classe ? <br>\n",
    "2) La corrélation négative entre la survie et la classe ?"
   ]
  },
  {
   "cell_type": "code",
   "execution_count": null,
   "metadata": {},
   "outputs": [],
   "source": []
  }
 ],
 "metadata": {
  "kernelspec": {
   "display_name": "Python 3",
   "language": "python",
   "name": "python3"
  },
  "language_info": {
   "codemirror_mode": {
    "name": "ipython",
    "version": 3
   },
   "file_extension": ".py",
   "mimetype": "text/x-python",
   "name": "python",
   "nbconvert_exporter": "python",
   "pygments_lexer": "ipython3",
   "version": "3.7.9"
  }
 },
 "nbformat": 4,
 "nbformat_minor": 4
}
